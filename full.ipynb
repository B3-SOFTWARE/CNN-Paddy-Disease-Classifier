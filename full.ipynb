{
 "cells": [
  {
   "cell_type": "code",
   "execution_count": null,
   "id": "0a92bea6-3928-4396-99e4-5b61dc9e7325",
   "metadata": {},
   "outputs": [],
   "source": [
    "import os\n",
    "import cv2\n",
    "\n",
    "def preprocess_images(input_dir, output_dir, img_size=(128, 128)):\n",
    "    \"\"\"\n",
    "    Preprocess images by resizing, normalizing, and saving to an output directory.\n",
    "    \n",
    "    Args:\n",
    "        input_dir (str): Path to the directory containing raw images.\n",
    "        output_dir (str): Path to save preprocessed images.\n",
    "        img_size (tuple): Desired image size (width, height).\n",
    "    \"\"\"\n",
    "    # Create output directory if it doesn't exist\n",
    "    os.makedirs(output_dir, exist_ok=True)\n",
    "\n",
    "    for class_name in os.listdir(input_dir):  # Iterate through class folders\n",
    "        class_path = os.path.join(input_dir, class_name)\n",
    "        if not os.path.isdir(class_path):\n",
    "            continue  # Skip non-folder files\n",
    "\n",
    "        # Create class folder in output directory\n",
    "        output_class_path = os.path.join(output_dir, class_name)\n",
    "        os.makedirs(output_class_path, exist_ok=True)\n",
    "\n",
    "        for img_name in os.listdir(class_path):\n",
    "            img_path = os.path.join(class_path, img_name)\n",
    "            try:\n",
    "                # Read the image\n",
    "                img = cv2.imread(img_path)\n",
    "\n",
    "                # Resize the image\n",
    "                img_resized = cv2.resize(img, img_size)\n",
    "\n",
    "                # Normalize pixel values to [0, 1]\n",
    "                img_normalized = img_resized / 255.0\n",
    "\n",
    "                # Optional: Apply denoising filter (if noisy images)\n",
    "                img_denoised = cv2.fastNlMeansDenoisingColored(\n",
    "                    (img_normalized * 255).astype(\"uint8\"), None, 10, 10, 7, 21\n",
    "                )\n",
    "\n",
    "                # Save the preprocessed image\n",
    "                output_path = os.path.join(output_class_path, img_name)\n",
    "                cv2.imwrite(output_path, (img_denoised * 255).astype(\"uint8\"))\n",
    "                print(f\"Processed and saved: {output_path}\")\n",
    "            except Exception as e:\n",
    "                print(f\"Error processing {img_path}: {e}\")\n",
    "\n",
    "\n",
    "# Define paths\n",
    "input_directory = \"F:/2025/Lofty Agrotech Internship/PADDY IMAGES/\"  # Path to raw images\n",
    "output_directory = \"F:/2025/Lofty Agrotech Internship/processed_images/\"  # Path to save preprocessed images\n",
    "\n",
    "# Run preprocessing\n",
    "preprocess_images(input_directory, output_directory)\n"
   ]
  },
  {
   "cell_type": "code",
   "execution_count": null,
   "id": "89b34d2d-46a0-45f4-9152-c9cd441178a0",
   "metadata": {},
   "outputs": [],
   "source": [
    "import os\n",
    "import numpy as np\n",
    "import tensorflow as tf\n",
    "from tensorflow.keras import layers, models\n",
    "from tensorflow.keras.preprocessing.image import ImageDataGenerator\n",
    "from tensorflow.keras.models import load_model\n",
    "import matplotlib.pyplot as plt\n",
    "from tensorflow.keras.preprocessing import image"
   ]
  },
  {
   "cell_type": "code",
   "execution_count": null,
   "id": "0a8c9476-b611-496f-8d6e-ff3ce76e7559",
   "metadata": {},
   "outputs": [],
   "source": [
    "# Define paths\n",
    "train_dir = 'F:/2025/Lofty Agrotech Internship/processed_images/'  # Replace with path to your training images\n",
    "validation_dir = 'F:/2025/Lofty Agrotech Internship/processed_images/'  # Replace with path to your validation images\n",
    "img_size = (128, 128)  # Image size to match model input\n",
    "batch_size = 32"
   ]
  },
  {
   "cell_type": "code",
   "execution_count": null,
   "id": "145b2a25-6887-4f3c-bd23-63654717a5f8",
   "metadata": {},
   "outputs": [],
   "source": [
    "# Data Preprocessing\n",
    "train_datagen = ImageDataGenerator(\n",
    "    rescale=1./255,\n",
    "    rotation_range=30,\n",
    "    width_shift_range=0.2,\n",
    "    height_shift_range=0.2,\n",
    "    shear_range=0.2,\n",
    "    zoom_range=0.2,\n",
    "    horizontal_flip=True,\n",
    "    fill_mode='nearest'\n",
    ")\n",
    "\n",
    "validation_datagen = ImageDataGenerator(rescale=1./255)"
   ]
  },
  {
   "cell_type": "code",
   "execution_count": null,
   "id": "01247441-5962-4120-936b-c35d90ecfb61",
   "metadata": {},
   "outputs": [],
   "source": [
    "train_generator = train_datagen.flow_from_directory(\n",
    "    train_dir,\n",
    "    target_size=img_size,\n",
    "    batch_size=batch_size,\n",
    "    class_mode='categorical'  # Multi-class classification\n",
    ")"
   ]
  },
  {
   "cell_type": "code",
   "execution_count": null,
   "id": "98fe58f8-358b-4292-9ed9-2c21907e785b",
   "metadata": {},
   "outputs": [],
   "source": [
    "validation_generator = validation_datagen.flow_from_directory(\n",
    "    validation_dir,\n",
    "    target_size=img_size,\n",
    "    batch_size=batch_size,\n",
    "    class_mode='categorical'\n",
    ")"
   ]
  },
  {
   "cell_type": "code",
   "execution_count": null,
   "id": "7a979140-2f40-4856-b194-cc3c670894c0",
   "metadata": {},
   "outputs": [],
   "source": [
    "# Build CNN Model\n",
    "model = models.Sequential([\n",
    "    layers.Conv2D(32, (3, 3), activation='relu', input_shape=(128, 128, 3)),\n",
    "    layers.MaxPooling2D((2, 2)),\n",
    "    layers.Conv2D(64, (3, 3), activation='relu'),\n",
    "    layers.MaxPooling2D((2, 2)),\n",
    "    layers.Conv2D(128, (3, 3), activation='relu'),\n",
    "    layers.MaxPooling2D((2, 2)),\n",
    "    layers.Flatten(),\n",
    "    layers.Dense(128, activation='relu'),\n",
    "    layers.Dense(10, activation='softmax')  # 10 classes (9 diseases + normal)\n",
    "])"
   ]
  },
  {
   "cell_type": "code",
   "execution_count": null,
   "id": "eefd9e6a-aa5b-4081-8bad-e58921cf24fc",
   "metadata": {},
   "outputs": [],
   "source": [
    "# Compile the Model\n",
    "model.compile(optimizer='adam',\n",
    "              loss='categorical_crossentropy',\n",
    "              metrics=['accuracy'])"
   ]
  },
  {
   "cell_type": "code",
   "execution_count": null,
   "id": "953359b1-ca85-434b-9574-d2285c4895fe",
   "metadata": {},
   "outputs": [],
   "source": [
    "# Train the Model\n",
    "history = model.fit(\n",
    "    train_generator,\n",
    "    steps_per_epoch=train_generator.samples // batch_size,\n",
    "    epochs=25,\n",
    "    validation_data=validation_generator,\n",
    "    validation_steps=validation_generator.samples // batch_size\n",
    ")"
   ]
  },
  {
   "cell_type": "code",
   "execution_count": null,
   "id": "25f7e9b3-009b-4742-a78f-ec197033b1d0",
   "metadata": {},
   "outputs": [],
   "source": [
    "# Save the Model\n",
    "model.save('disease_classifier_model.h5')"
   ]
  },
  {
   "cell_type": "code",
   "execution_count": null,
   "id": "0e77a0b4-2daf-4e7d-ba70-826e2ed26bbd",
   "metadata": {},
   "outputs": [],
   "source": [
    "# Evaluate the Model on validation data\n",
    "validation_loss, validation_accuracy = model.evaluate(validation_generator)\n",
    "print(f\"Validation Accuracy: {validation_accuracy:.2f}, Validation Loss: {validation_loss:.2f}\")"
   ]
  },
  {
   "cell_type": "code",
   "execution_count": null,
   "id": "0b60cdf2-ec91-40ac-8d28-3c209b5a7372",
   "metadata": {},
   "outputs": [],
   "source": [
    "# Prediction function\n",
    "def predict_disease(img_path):\n",
    "    # Load and preprocess the image\n",
    "    img = image.load_img(img_path, target_size=img_size)\n",
    "    img_array = image.img_to_array(img) / 255.0\n",
    "    img_array = np.expand_dims(img_array, axis=0)  # Add batch dimension\n",
    "    \n",
    "    # Predict the class\n",
    "    prediction = model.predict(img_array)\n",
    "\n",
    "    \n",
    "    # Get the predicted class index\n",
    "    predicted_class_idx = np.argmax(prediction, axis=-1)\n",
    "    \n",
    "    # Class labels (9 diseases + normal)\n",
    "    class_labels = ['bacterial_leaf_blight',\n",
    "'bacterial_leaf_streak',\n",
    "'bacterial_panicle_blight',\n",
    "'blast',\n",
    "'brown_spot',\n",
    "'dead_heart',\n",
    "'downy_mildew',\n",
    "'hispa',\n",
    "'normal',\n",
    "'tungro']\n",
    "    # Output the result\n",
    "    print(f\"Predicted class: {class_labels[predicted_class_idx[0]]}\")\n",
    "\n",
    "    # Display the image\n",
    "    plt.imshow(img)\n",
    "    plt.axis('off')\n",
    "    plt.show()"
   ]
  },
  {
   "cell_type": "code",
   "execution_count": null,
   "id": "be110d31-f6b3-4aa6-864e-263a397f5e64",
   "metadata": {},
   "outputs": [],
   "source": [
    "# Example usage\"C:\\Users\\Nandan\\Desktop\\5g\"\n",
    "img_path = 'C:/Users/Nandan/Desktop/intern/test_processed_images/diseased/blb.jpg'  # Replace with the actual test image path\n",
    "predict_disease(img_path)"
   ]
  },
  {
   "cell_type": "code",
   "execution_count": null,
   "id": "a4bdb80a-092b-4239-b4e9-cef102ac5205",
   "metadata": {},
   "outputs": [],
   "source": [
    "import matplotlib.pyplot as plt\n",
    "\n",
    "# Plot accuracy\n",
    "plt.figure(figsize=(12, 4))\n",
    "plt.subplot(1, 2, 1)\n",
    "plt.plot(history.history['accuracy'], label='Train Accuracy')\n",
    "plt.plot(history.history['val_accuracy'], label='Validation Accuracy')\n",
    "plt.title('Accuracy Over Epochs')\n",
    "plt.xlabel('Epoch')\n",
    "plt.ylabel('Accuracy')\n",
    "plt.legend()\n",
    "\n",
    "# Plot loss\n",
    "plt.subplot(1, 2, 2)\n",
    "plt.plot(history.history['loss'], label='Train Loss')\n",
    "plt.plot(history.history['val_loss'], label='Validation Loss')\n",
    "plt.title('Loss Over Epochs')\n",
    "plt.xlabel('Epoch')\n",
    "plt.ylabel('Loss')\n",
    "plt.legend()\n",
    "\n",
    "plt.show()\n"
   ]
  },
  {
   "cell_type": "code",
   "execution_count": null,
   "id": "cf732589-359c-4db6-9849-58e8f254b04e",
   "metadata": {},
   "outputs": [],
   "source": []
  }
 ],
 "metadata": {
  "kernelspec": {
   "display_name": "Python 3 (ipykernel)",
   "language": "python",
   "name": "python3"
  },
  "language_info": {
   "codemirror_mode": {
    "name": "ipython",
    "version": 3
   },
   "file_extension": ".py",
   "mimetype": "text/x-python",
   "name": "python",
   "nbconvert_exporter": "python",
   "pygments_lexer": "ipython3",
   "version": "3.12.8"
  }
 },
 "nbformat": 4,
 "nbformat_minor": 5
}
