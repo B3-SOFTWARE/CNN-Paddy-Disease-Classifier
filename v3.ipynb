{
 "cells": [
  {
   "cell_type": "code",
   "execution_count": null,
   "id": "9fea1aa7-7ad0-4b22-b228-e3633efac50f",
   "metadata": {},
   "outputs": [],
   "source": [
    "import os\n",
    "import tensorflow as tf\n",
    "from tensorflow.keras.applications import MobileNetV2\n",
    "from tensorflow.keras.layers import GlobalAveragePooling2D, Dense, Dropout\n",
    "from tensorflow.keras.models import Sequential\n",
    "from tensorflow.keras.preprocessing.image import ImageDataGenerator\n",
    "\n",
    "# Define image size and batch size\n",
    "IMG_SIZE = (128, 128)\n",
    "BATCH_SIZE = 32\n",
    "NUM_CLASSES = 10  # Change this if your dataset has a different number of classes"
   ]
  },
  {
   "cell_type": "code",
   "execution_count": null,
   "id": "0c3f06b8-b185-4c58-ab3a-2e0c492ba15d",
   "metadata": {},
   "outputs": [],
   "source": [
    "\n",
    "TRAIN_DIR = 'F:/2025/Lofty Agrotech Internship/processed_images/'  # Replace with path to your training images\n",
    "VAL_DIR = 'F:/2025/Lofty Agrotech Internship/processed_images/'"
   ]
  },
  {
   "cell_type": "code",
   "execution_count": null,
   "id": "31d14fa5-c14c-4dab-8ac1-84cc8e8afd50",
   "metadata": {},
   "outputs": [],
   "source": [
    "# Augment training data\n",
    "train_datagen = ImageDataGenerator(\n",
    "    rescale=1.0 / 255,\n",
    "    rotation_range=30,\n",
    "    width_shift_range=0.2,\n",
    "    height_shift_range=0.2,\n",
    "    zoom_range=0.2,\n",
    "    horizontal_flip=True,\n",
    "    fill_mode=\"nearest\"\n",
    ")\n",
    "\n",
    "val_datagen = ImageDataGenerator(rescale=1.0 / 255)"
   ]
  },
  {
   "cell_type": "code",
   "execution_count": null,
   "id": "1ea2cac5-9e84-4abd-957a-0c681780de2c",
   "metadata": {},
   "outputs": [],
   "source": [
    "# Load training and validation data\n",
    "train_data = train_datagen.flow_from_directory(\n",
    "    TRAIN_DIR,\n",
    "    target_size=IMG_SIZE,\n",
    "    batch_size=BATCH_SIZE,\n",
    "    class_mode=\"categorical\"\n",
    ")"
   ]
  },
  {
   "cell_type": "code",
   "execution_count": null,
   "id": "4ca56dda-0cfa-426c-9695-412a65a4b34c",
   "metadata": {},
   "outputs": [],
   "source": [
    "val_data = val_datagen.flow_from_directory(\n",
    "    VAL_DIR,\n",
    "    target_size=IMG_SIZE,\n",
    "    batch_size=BATCH_SIZE,\n",
    "    class_mode=\"categorical\"\n",
    ")"
   ]
  },
  {
   "cell_type": "code",
   "execution_count": null,
   "id": "f6509287-801c-4ec7-982e-6be19d777d07",
   "metadata": {},
   "outputs": [],
   "source": [
    "# Load MobileNetV2\n",
    "base_model = MobileNetV2(\n",
    "    weights=\"imagenet\",  # Pre-trained on ImageNet\n",
    "    include_top=False,   # Exclude the final classification layer\n",
    "    input_shape=(IMG_SIZE[0], IMG_SIZE[1], 3)  # Match input image size\n",
    ")"
   ]
  },
  {
   "cell_type": "code",
   "execution_count": null,
   "id": "65a1b83d-1169-48a3-8118-20be28eb8e79",
   "metadata": {},
   "outputs": [],
   "source": [
    "# Freeze the base model\n",
    "base_model.trainable = False"
   ]
  },
  {
   "cell_type": "code",
   "execution_count": null,
   "id": "23caa396-d860-4aab-9d59-857a6b955b53",
   "metadata": {},
   "outputs": [],
   "source": [
    "# Build the full model\n",
    "model = Sequential([\n",
    "    base_model,  # Add MobileNetV2 base\n",
    "    GlobalAveragePooling2D(),  # Pooling layer\n",
    "    Dense(256, activation=\"relu\"),  # Fully connected layer\n",
    "    Dropout(0.5),  # Regularization\n",
    "    Dense(NUM_CLASSES, activation=\"softmax\")  # Output layer for classification\n",
    "])"
   ]
  },
  {
   "cell_type": "code",
   "execution_count": null,
   "id": "d2177369-6c50-492e-b1e4-039fa119a1b7",
   "metadata": {},
   "outputs": [],
   "source": [
    "# Compile the model\n",
    "model.compile(\n",
    "    optimizer=tf.keras.optimizers.Adam(learning_rate=0.001),\n",
    "    loss=\"categorical_crossentropy\",\n",
    "    metrics=[\"accuracy\"]\n",
    ")"
   ]
  },
  {
   "cell_type": "code",
   "execution_count": null,
   "id": "d8452a25-2e3e-4974-b844-02aa6440b4ad",
   "metadata": {},
   "outputs": [],
   "source": [
    "# Train the model\n",
    "history = model.fit(\n",
    "    train_data,\n",
    "    validation_data=val_data,\n",
    "    epochs=30,  # Adjust based on dataset size\n",
    "    batch_size=BATCH_SIZE\n",
    ")"
   ]
  },
  {
   "cell_type": "code",
   "execution_count": null,
   "id": "5015aafb-fb55-4186-9945-3a55cae8f229",
   "metadata": {},
   "outputs": [],
   "source": [
    "# Unfreeze the base model for fine-tuning\n",
    "base_model.trainable = True"
   ]
  },
  {
   "cell_type": "code",
   "execution_count": null,
   "id": "a2c8218c-687d-44b9-8eec-ee68406f72a2",
   "metadata": {},
   "outputs": [],
   "source": [
    "# Recompile with a lower learning rate for fine-tuning\n",
    "model.compile(\n",
    "    optimizer=tf.keras.optimizers.Adam(learning_rate=0.0001),\n",
    "    loss=\"categorical_crossentropy\",\n",
    "    metrics=[\"accuracy\"]\n",
    ")"
   ]
  },
  {
   "cell_type": "code",
   "execution_count": null,
   "id": "dd316f83-d170-4ac5-a102-dff72b1d3d45",
   "metadata": {},
   "outputs": [],
   "source": [
    "# Fine-tune the model\n",
    "history_fine_tune = model.fit(\n",
    "    train_data,\n",
    "    validation_data=val_data,\n",
    "    epochs=30,\n",
    "    batch_size=BATCH_SIZE\n",
    ")"
   ]
  },
  {
   "cell_type": "code",
   "execution_count": null,
   "id": "c9ac54f9-2248-4820-a20c-c93df3df2cf6",
   "metadata": {},
   "outputs": [],
   "source": []
  },
  {
   "cell_type": "code",
   "execution_count": null,
   "id": "9eebed02-83a1-469d-b41c-0274eafd3190",
   "metadata": {},
   "outputs": [],
   "source": [
    "# Evaluate the model\n",
    "val_loss, val_acc = model.evaluate(val_data)\n",
    "print(f\"Validation Accuracy: {val_acc * 100:.2f}%\")"
   ]
  },
  {
   "cell_type": "code",
   "execution_count": null,
   "id": "623a84a7-e866-41f0-8543-d660f3daa03f",
   "metadata": {},
   "outputs": [],
   "source": [
    "# Save the trained model\n",
    "model.save(\"mobilenetv2_leaf_disease_model.h5\")\n",
    "print(\"Model saved as 'mobilenetv2_leaf_disease_model.h5'\")"
   ]
  },
  {
   "cell_type": "code",
   "execution_count": null,
   "id": "5adcad4c-2756-42c5-8534-be18c60745a5",
   "metadata": {},
   "outputs": [],
   "source": [
    "\n",
    "from tensorflow.keras.models import load_model\n",
    "from tensorflow.keras.preprocessing import image\n",
    "# Path to the saved model file\n",
    "model_path = \"mobilenetv2_leaf_disease_model.h5\"  # Replace with your model file path\n",
    "\n",
    "# Load the trained model\n",
    "model = load_model(model_path)\n",
    "print(\"Model loaded successfully!\")\n"
   ]
  },
  {
   "cell_type": "code",
   "execution_count": null,
   "id": "62b93004-0c4c-426b-ae82-b8c4c18aa307",
   "metadata": {},
   "outputs": [],
   "source": [
    "# Prediction function\n",
    "import numpy as np\n",
    "import matplotlib.pyplot as plt\n",
    "def predict_disease(img_path):\n",
    "    # Load and preprocess the image\n",
    "    img_size = IMG_SIZE\n",
    "    img = image.load_img(img_path, target_size=img_size)\n",
    "    img_array = image.img_to_array(img) / 255.0\n",
    "    img_array = np.expand_dims(img_array, axis=0)  # Add batch dimension\n",
    "    \n",
    "    # Predict the class\n",
    "    prediction = model.predict(img_array)\n",
    "\n",
    "    \n",
    "    # Get the predicted class index\n",
    "    predicted_class_idx = np.argmax(prediction, axis=-1)\n",
    "    \n",
    "    # Class labels (9 diseases + normal)\n",
    "    class_labels = ['bacterial_leaf_blight',\n",
    "'bacterial_leaf_streak',\n",
    "'bacterial_panicle_blight',\n",
    "'blast',\n",
    "'brown_spot',\n",
    "'dead_heart',\n",
    "'downy_mildew',\n",
    "'hispa',\n",
    "'normal',\n",
    "'tungro']\n",
    "    # Output the result\n",
    "    print(f\"Predicted class: {class_labels[predicted_class_idx[0]]}\")\n",
    "\n",
    "    # Display the image\n",
    "    plt.imshow(img)\n",
    "    plt.axis('off')\n",
    "    plt.show()"
   ]
  },
  {
   "cell_type": "code",
   "execution_count": null,
   "id": "77792561-f152-41ee-884c-01c1bb19a912",
   "metadata": {},
   "outputs": [],
   "source": [
    "# Example usage\"C:\\Users\\Nandan\\Desktop\\5g\"\n",
    "img_path = 'C:/Users/Nandan/Desktop/intern/test_processed_images/diseased/blb.jpg'  # Replace with the actual test image path\n",
    "predict_disease(img_path)"
   ]
  },
  {
   "cell_type": "code",
   "execution_count": null,
   "id": "43b9991b-a6d3-4827-92e0-f1fdbc3fe832",
   "metadata": {},
   "outputs": [],
   "source": []
  }
 ],
 "metadata": {
  "kernelspec": {
   "display_name": "Python 3 (ipykernel)",
   "language": "python",
   "name": "python3"
  },
  "language_info": {
   "codemirror_mode": {
    "name": "ipython",
    "version": 3
   },
   "file_extension": ".py",
   "mimetype": "text/x-python",
   "name": "python",
   "nbconvert_exporter": "python",
   "pygments_lexer": "ipython3",
   "version": "3.12.8"
  }
 },
 "nbformat": 4,
 "nbformat_minor": 5
}
